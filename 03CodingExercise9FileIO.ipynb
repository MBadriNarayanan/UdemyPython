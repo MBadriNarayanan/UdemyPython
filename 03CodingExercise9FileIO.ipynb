{
 "cells": [
  {
   "cell_type": "markdown",
   "metadata": {},
   "source": [
    "## This exercise will require several lines of code.\n",
    "\n",
    "## Write a script that opens the file 'test.txt', writes 'Hello World' to the file, then closes it.\n",
    "\n",
    "## For example, the following code opens a file called 'myfile.txt', writes 'This is my file', and closes it\n",
    "\n",
    "## x = open('myfile.txt','w')\n",
    "## x.write('This is my file')\n",
    "## x.close()"
   ]
  },
  {
   "cell_type": "code",
   "execution_count": 1,
   "metadata": {},
   "outputs": [],
   "source": [
    "with open(r'C:\\Users\\badri\\Desktop\\UdemyPython\\CodingExercise\\test.txt','w') as f :\n",
    "    \n",
    "        f.write('Hello World')\n",
    "        \n",
    "f.close()\n",
    "\n",
    "with open(r'C:\\Users\\badri\\Desktop\\UdemyPython\\CodingExercise\\test.txt','r') as f :\n",
    "    \n",
    "        output = f.readlines()\n",
    "        \n",
    "f.close()"
   ]
  },
  {
   "cell_type": "code",
   "execution_count": 2,
   "metadata": {},
   "outputs": [
    {
     "data": {
      "text/plain": [
       "['Hello World']"
      ]
     },
     "execution_count": 2,
     "metadata": {},
     "output_type": "execute_result"
    }
   ],
   "source": [
    "output"
   ]
  },
  {
   "cell_type": "code",
   "execution_count": null,
   "metadata": {},
   "outputs": [],
   "source": []
  }
 ],
 "metadata": {
  "kernelspec": {
   "display_name": "Python 3",
   "language": "python",
   "name": "python3"
  },
  "language_info": {
   "codemirror_mode": {
    "name": "ipython",
    "version": 3
   },
   "file_extension": ".py",
   "mimetype": "text/x-python",
   "name": "python",
   "nbconvert_exporter": "python",
   "pygments_lexer": "ipython3",
   "version": "3.7.6"
  }
 },
 "nbformat": 4,
 "nbformat_minor": 2
}
