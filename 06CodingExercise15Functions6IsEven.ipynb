{
 "cells": [
  {
   "cell_type": "markdown",
   "metadata": {},
   "source": [
    "## Define a function called is_even() that takes in one argument, and returns True if the passed-in value is even, False if it is not"
   ]
  },
  {
   "cell_type": "code",
   "execution_count": 1,
   "metadata": {},
   "outputs": [],
   "source": [
    "def is_even(a) :\n",
    "    \n",
    "    '''\n",
    "    Takes in a parameter and returns True if it is even (or) False if it is not\n",
    "    \n",
    "    I/P : Data to be checked\n",
    "    \n",
    "    O/P : Returns True (or) False\n",
    "    \n",
    "    '''\n",
    "    \n",
    "    if a % 2 == 0 : \n",
    "        \n",
    "        return True\n",
    "    \n",
    "    elif a % 2 != 0 :\n",
    "        \n",
    "        return False"
   ]
  },
  {
   "cell_type": "code",
   "execution_count": 2,
   "metadata": {},
   "outputs": [
    {
     "name": "stdout",
     "output_type": "stream",
     "text": [
      "False\n",
      "True\n"
     ]
    }
   ],
   "source": [
    "print(is_even(5))\n",
    "\n",
    "print(is_even(4))"
   ]
  },
  {
   "cell_type": "code",
   "execution_count": 3,
   "metadata": {},
   "outputs": [
    {
     "name": "stdout",
     "output_type": "stream",
     "text": [
      "Help on function is_even in module __main__:\n",
      "\n",
      "is_even(a)\n",
      "    Takes in a parameter and returns True if it is even (or) False if it is not\n",
      "    \n",
      "    I/P : Data to be checked\n",
      "    \n",
      "    O/P : Returns True (or) False\n",
      "\n"
     ]
    }
   ],
   "source": [
    "help(is_even)"
   ]
  },
  {
   "cell_type": "code",
   "execution_count": null,
   "metadata": {},
   "outputs": [],
   "source": []
  }
 ],
 "metadata": {
  "kernelspec": {
   "display_name": "Python 3",
   "language": "python",
   "name": "python3"
  },
  "language_info": {
   "codemirror_mode": {
    "name": "ipython",
    "version": 3
   },
   "file_extension": ".py",
   "mimetype": "text/x-python",
   "name": "python",
   "nbconvert_exporter": "python",
   "pygments_lexer": "ipython3",
   "version": "3.7.6"
  }
 },
 "nbformat": 4,
 "nbformat_minor": 2
}
