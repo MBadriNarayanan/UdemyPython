{
 "cells": [
  {
   "cell_type": "markdown",
   "metadata": {},
   "source": [
    "## Define a function myfunc() that takes in a string, and returns a matching string where every even letter is uppercase, and every odd letter is lowercase. Assume that the incoming string only contains letters, and don't worry about numbers, spaces or punctuation. The output string can start with either an uppercase or lowercase letter, so long as letters alternate throught the string."
   ]
  },
  {
   "cell_type": "code",
   "execution_count": 1,
   "metadata": {},
   "outputs": [],
   "source": [
    "def myfunc(string) :\n",
    "    \n",
    "    '''\n",
    "    Takes in a string and returns a matching string where every even letter is uppercase, and every odd letter is lowercase.\n",
    "    \n",
    "    I/P : A String\n",
    "    \n",
    "    O/P : Converted String\n",
    "    \n",
    "    '''\n",
    "    \n",
    "    newstring = ''\n",
    "    \n",
    "    if string[0] >= 'a' and string[0] <= 'z' :\n",
    "        \n",
    "        for i in range(len(string)) : \n",
    "        \n",
    "            if i % 2 == 0 :\n",
    "\n",
    "                newstring = newstring + string[i].upper()\n",
    "\n",
    "            else:\n",
    "\n",
    "                newstring = newstring + string[i].lower()\n",
    "    \n",
    "    elif string[0] >= 'A' and string[0] <= 'Z' :    \n",
    "        \n",
    "        for i in range(len(string)) : \n",
    "        \n",
    "            if i % 2 != 0 :\n",
    "\n",
    "                newstring = newstring + string[i].upper()\n",
    "\n",
    "            else:\n",
    "\n",
    "                newstring = newstring + string[i].lower()\n",
    "    \n",
    "    return newstring"
   ]
  },
  {
   "cell_type": "code",
   "execution_count": 2,
   "metadata": {},
   "outputs": [
    {
     "data": {
      "text/plain": [
       "'aNtHrOpOmOrPhIsM'"
      ]
     },
     "execution_count": 2,
     "metadata": {},
     "output_type": "execute_result"
    }
   ],
   "source": [
    "myfunc('Anthropomorphism')"
   ]
  }
 ],
 "metadata": {
  "kernelspec": {
   "display_name": "Python 3",
   "language": "python",
   "name": "python3"
  },
  "language_info": {
   "codemirror_mode": {
    "name": "ipython",
    "version": 3
   },
   "file_extension": ".py",
   "mimetype": "text/x-python",
   "name": "python",
   "nbconvert_exporter": "python",
   "pygments_lexer": "ipython3",
   "version": "3.7.6"
  }
 },
 "nbformat": 4,
 "nbformat_minor": 2
}
