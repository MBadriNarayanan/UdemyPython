{
 "cells": [
  {
   "cell_type": "markdown",
   "metadata": {
    "collapsed": true
   },
   "source": [
    "# Milestone Project 2 - Walkthrough Steps Workbook\n",
    "Below is a set of steps for you to follow to try to create the Blackjack Milestone Project game!"
   ]
  },
  {
   "cell_type": "markdown",
   "metadata": {},
   "source": [
    "## Game Play\n",
    "To play a hand of Blackjack the following steps must be followed:\n",
    "1. Create a deck of 52 cards\n",
    "2. Shuffle the deck\n",
    "3. Ask the Player for their bet\n",
    "4. Make sure that the Player's bet does not exceed their available chips\n",
    "5. Deal two cards to the Dealer and two cards to the Player\n",
    "6. Show only one of the Dealer's cards, the other remains hidden\n",
    "7. Show both of the Player's cards\n",
    "8. Ask the Player if they wish to Hit, and take another card\n",
    "9. If the Player's hand doesn't Bust (go over 21), ask if they'd like to Hit again.\n",
    "10. If a Player Stands, play the Dealer's hand. The dealer will always Hit until the Dealer's value meets or exceeds 17\n",
    "11. Determine the winner and adjust the Player's chips accordingly\n",
    "12. Ask the Player if they'd like to play again"
   ]
  },
  {
   "cell_type": "markdown",
   "metadata": {},
   "source": [
    "## Playing Cards\n",
    "A standard deck of playing cards has four suits (Hearts, Diamonds, Spades and Clubs) and thirteen ranks (2 through 10, then the face cards Jack, Queen, King and Ace) for a total of 52 cards per deck. Jacks, Queens and Kings all have a rank of 10. Aces have a rank of either 11 or 1 as needed to reach 21 without busting. As a starting point in your program, you may want to assign variables to store a list of suits, ranks, and then use a dictionary to map ranks to values."
   ]
  },
  {
   "cell_type": "markdown",
   "metadata": {},
   "source": [
    "## The Game\n",
    "### Imports and Global Variables\n",
    "** Step 1: Import the random module. This will be used to shuffle the deck prior to dealing. Then, declare variables to store suits, ranks and values. You can develop your own system, or copy ours below. Finally, declare a Boolean value to be used to control <code>while</code> loops. This is a common practice used to control the flow of the game.**\n",
    "\n",
    "    suits = ('Hearts', 'Diamonds', 'Spades', 'Clubs')\n",
    "    ranks = ('Two', 'Three', 'Four', 'Five', 'Six', 'Seven', 'Eight', 'Nine', 'Ten', 'Jack', 'Queen', 'King', 'Ace')\n",
    "    values = {'Two':2, 'Three':3, 'Four':4, 'Five':5, 'Six':6, 'Seven':7, 'Eight':8, 'Nine':9, 'Ten':10, 'Jack':10,\n",
    "             'Queen':10, 'King':10, 'Ace':11}"
   ]
  },
  {
   "cell_type": "code",
   "execution_count": 1,
   "metadata": {},
   "outputs": [],
   "source": [
    "import random\n",
    "\n",
    "suits = ('Hearts', 'Diamonds', 'Spades', 'Clubs')\n",
    "\n",
    "ranks = ('Two', 'Three', 'Four', 'Five', 'Six', 'Seven', 'Eight', 'Nine', 'Ten', 'Jack', 'Queen', 'King', 'Ace')\n",
    "\n",
    "values = {'Two':2, 'Three':3, 'Four':4, 'Five':5, 'Six':6, 'Seven':7, 'Eight':8, 'Nine':9, 'Ten':10, 'Jack':10,'Queen':10, 'King':10, 'Ace':11}\n",
    "\n",
    "\n",
    "playing = True"
   ]
  },
  {
   "cell_type": "markdown",
   "metadata": {},
   "source": [
    "### Class Definitions\n",
    "Consider making a Card class where each Card object has a suit and a rank, then a Deck class to hold all 52 Card objects, and can be shuffled, and finally a Hand class that holds those Cards that have been dealt to each player from the Deck."
   ]
  },
  {
   "cell_type": "markdown",
   "metadata": {},
   "source": [
    "**Step 2: Create a Card Class**<br>\n",
    "A Card object really only needs two attributes: suit and rank. You might add an attribute for \"value\" - we chose to handle value later when developing our Hand class.<br>In addition to the Card's \\_\\_init\\_\\_ method, consider adding a \\_\\_str\\_\\_ method that, when asked to print a Card, returns a string in the form \"Two of Hearts\""
   ]
  },
  {
   "cell_type": "code",
   "execution_count": 2,
   "metadata": {},
   "outputs": [],
   "source": [
    "class Card:\n",
    "    \n",
    "    def __init__(self,suit,rank) :\n",
    "        \n",
    "        self.suit = suit\n",
    "        \n",
    "        self.rank = rank\n",
    "        \n",
    "        \n",
    "    \n",
    "    def __str__(self) :\n",
    "        \n",
    "        return '{} of {} '.format(self.rank,self.suit)\n",
    "        "
   ]
  },
  {
   "cell_type": "markdown",
   "metadata": {},
   "source": [
    "**Step 3: Create a Deck Class**<br>\n",
    "Here we might store 52 card objects in a list that can later be shuffled. First, though, we need to *instantiate* all 52 unique card objects and add them to our list. So long as the Card class definition appears in our code, we can build Card objects inside our Deck \\_\\_init\\_\\_ method. Consider iterating over sequences of suits and ranks to build out each card. This might appear inside a Deck class \\_\\_init\\_\\_ method:\n",
    "\n",
    "    for suit in suits:\n",
    "        for rank in ranks:\n",
    "\n",
    "In addition to an \\_\\_init\\_\\_ method we'll want to add methods to shuffle our deck, and to deal out cards during gameplay.<br><br>\n",
    "OPTIONAL: We may never need to print the contents of the deck during gameplay, but having the ability to see the cards inside it may help troubleshoot any problems that occur during development. With this in mind, consider adding a \\_\\_str\\_\\_ method to the class definition."
   ]
  },
  {
   "cell_type": "code",
   "execution_count": 3,
   "metadata": {},
   "outputs": [],
   "source": [
    "class Deck:\n",
    "    \n",
    "    def __init__(self) :\n",
    "        \n",
    "        self.deck = []  \n",
    "        \n",
    "        for suit in suits :\n",
    "            \n",
    "            for rank in ranks :\n",
    "                \n",
    "                self.deck.append(Card(suit,rank))\n",
    "    \n",
    "    def __str__(self) :\n",
    "        \n",
    "        deck_comp = '' \n",
    "        \n",
    "        for card in self.deck :\n",
    "            \n",
    "            deck_comp += card.__str__() + '\\n'\n",
    "            \n",
    "        return 'The deck has \\n{} :' .format(deck_comp)\n",
    "\n",
    "    def shuffle(self) :\n",
    "        \n",
    "        random.shuffle(self.deck)\n",
    "        \n",
    "    def deal(self) :\n",
    "        \n",
    "        \n",
    "        single_card = self.deck.pop()\n",
    "        \n",
    "        return single_card"
   ]
  },
  {
   "cell_type": "markdown",
   "metadata": {},
   "source": [
    "TESTING: Just to see that everything works so far, let's see what our Deck looks like!"
   ]
  },
  {
   "cell_type": "code",
   "execution_count": 4,
   "metadata": {},
   "outputs": [
    {
     "name": "stdout",
     "output_type": "stream",
     "text": [
      "The deck has \n",
      "Two of Hearts \n",
      "Three of Hearts \n",
      "Four of Hearts \n",
      "Five of Hearts \n",
      "Six of Hearts \n",
      "Seven of Hearts \n",
      "Eight of Hearts \n",
      "Nine of Hearts \n",
      "Ten of Hearts \n",
      "Jack of Hearts \n",
      "Queen of Hearts \n",
      "King of Hearts \n",
      "Ace of Hearts \n",
      "Two of Diamonds \n",
      "Three of Diamonds \n",
      "Four of Diamonds \n",
      "Five of Diamonds \n",
      "Six of Diamonds \n",
      "Seven of Diamonds \n",
      "Eight of Diamonds \n",
      "Nine of Diamonds \n",
      "Ten of Diamonds \n",
      "Jack of Diamonds \n",
      "Queen of Diamonds \n",
      "King of Diamonds \n",
      "Ace of Diamonds \n",
      "Two of Spades \n",
      "Three of Spades \n",
      "Four of Spades \n",
      "Five of Spades \n",
      "Six of Spades \n",
      "Seven of Spades \n",
      "Eight of Spades \n",
      "Nine of Spades \n",
      "Ten of Spades \n",
      "Jack of Spades \n",
      "Queen of Spades \n",
      "King of Spades \n",
      "Ace of Spades \n",
      "Two of Clubs \n",
      "Three of Clubs \n",
      "Four of Clubs \n",
      "Five of Clubs \n",
      "Six of Clubs \n",
      "Seven of Clubs \n",
      "Eight of Clubs \n",
      "Nine of Clubs \n",
      "Ten of Clubs \n",
      "Jack of Clubs \n",
      "Queen of Clubs \n",
      "King of Clubs \n",
      "Ace of Clubs \n",
      " :\n"
     ]
    }
   ],
   "source": [
    "test_deck = Deck()\n",
    "print(test_deck)"
   ]
  },
  {
   "cell_type": "markdown",
   "metadata": {},
   "source": [
    "Great! Now let's move on to our Hand class."
   ]
  },
  {
   "cell_type": "markdown",
   "metadata": {},
   "source": [
    "**Step 4: Create a Hand Class**<br>\n",
    "In addition to holding Card objects dealt from the Deck, the Hand class may be used to calculate the value of those cards using the values dictionary defined above. It may also need to adjust for the value of Aces when appropriate."
   ]
  },
  {
   "cell_type": "code",
   "execution_count": 5,
   "metadata": {},
   "outputs": [],
   "source": [
    "class Hand :\n",
    "    \n",
    "    def __init__(self) :\n",
    "        \n",
    "        self.cards = []  \n",
    "        \n",
    "        self.value = 0  \n",
    "        \n",
    "        self.aces = 0    \n",
    "    \n",
    "    def add_card(self,card) :\n",
    "        \n",
    "        self.cards.append(card)\n",
    "        \n",
    "        self.value += values[card.rank]\n",
    "    \n",
    "    def adjust_for_ace(self) :\n",
    "        \n",
    "        while self.value > 21 and self.aces :\n",
    "            \n",
    "            self.value -= 10\n",
    "            \n",
    "            self.aces -= 1"
   ]
  },
  {
   "cell_type": "markdown",
   "metadata": {},
   "source": [
    "**Step 5: Create a Chips Class**<br>\n",
    "In addition to decks of cards and hands, we need to keep track of a Player's starting chips, bets, and ongoing winnings. This could be done using global variables, but in the spirit of object oriented programming, let's make a Chips class instead!"
   ]
  },
  {
   "cell_type": "code",
   "execution_count": 6,
   "metadata": {},
   "outputs": [],
   "source": [
    "class Chips:\n",
    "    \n",
    "    def __init__(self) :\n",
    "        \n",
    "        self.total = 100 \n",
    "        \n",
    "        self.bet = 0\n",
    "        \n",
    "    def win_bet(self) :\n",
    "        \n",
    "        self.total += self.bet\n",
    "\n",
    "    def lose_bet(self) :\n",
    "        \n",
    "        self.total -= self.bet"
   ]
  },
  {
   "cell_type": "markdown",
   "metadata": {},
   "source": [
    "### Function Defintions\n",
    "A lot of steps are going to be repetitive. That's where functions come in! The following steps are guidelines - add or remove functions as needed in your own program."
   ]
  },
  {
   "cell_type": "markdown",
   "metadata": {},
   "source": [
    "**Step 6: Write a function for taking bets**<br>\n",
    "Since we're asking the user for an integer value, this would be a good place to use <code>try</code>/<code>except</code>. Remember to check that a Player's bet can be covered by their available chips."
   ]
  },
  {
   "cell_type": "code",
   "execution_count": 7,
   "metadata": {},
   "outputs": [],
   "source": [
    "def take_bet(chips):\n",
    "    \n",
    "    while True :\n",
    "    \n",
    "        try :\n",
    "\n",
    "            chips.bet = int(input(' Enter Bet : '))\n",
    "\n",
    "        except ValueError :\n",
    "\n",
    "            print(' Bet must be integer !! ')\n",
    "\n",
    "        else :\n",
    "\n",
    "            if chips.bet > chips.total :\n",
    "\n",
    "                print(' Bet cannot exceed {} '.format(chip.total))\n",
    "\n",
    "            else :\n",
    "\n",
    "                break\n",
    "        \n",
    "        "
   ]
  },
  {
   "cell_type": "markdown",
   "metadata": {},
   "source": [
    "**Step 7: Write a function for taking hits**<br>\n",
    "Either player can take hits until they bust. This function will be called during gameplay anytime a Player requests a hit, or a Dealer's hand is less than 17. It should take in Deck and Hand objects as arguments, and deal one card off the deck and add it to the Hand. You may want it to check for aces in the event that a player's hand exceeds 21."
   ]
  },
  {
   "cell_type": "code",
   "execution_count": 8,
   "metadata": {},
   "outputs": [],
   "source": [
    "def hit(deck,hand) :\n",
    "    \n",
    "    hand.add_card(deck.deal())\n",
    "    \n",
    "    hand.adjust_for_ace()"
   ]
  },
  {
   "cell_type": "markdown",
   "metadata": {},
   "source": [
    "**Step 8: Write a function prompting the Player to Hit or Stand**<br>\n",
    "This function should accept the deck and the player's hand as arguments, and assign playing as a global variable.<br>\n",
    "If the Player Hits, employ the hit() function above. If the Player Stands, set the playing variable to False - this will control the behavior of a <code>while</code> loop later on in our code."
   ]
  },
  {
   "cell_type": "code",
   "execution_count": 9,
   "metadata": {},
   "outputs": [],
   "source": [
    "def hit_or_stand(deck,hand) :\n",
    "    \n",
    "    global playing  \n",
    "    \n",
    "    while True :\n",
    "        \n",
    "        x = input(\" Would you like to Hit or Stand (Enter 'H' or 'S') : \")\n",
    "        \n",
    "        if x[0].lower() == 'h':\n",
    "            \n",
    "            hit(deck,hand) \n",
    "\n",
    "        elif x[0].lower() == 's':\n",
    "            \n",
    "            print(' Player stands and Dealer is playing ')\n",
    "                  \n",
    "            playing = False\n",
    "\n",
    "        else :\n",
    "                  \n",
    "            print(' Sorry, please try again')\n",
    "                  \n",
    "            continue\n",
    "                  \n",
    "        break"
   ]
  },
  {
   "cell_type": "markdown",
   "metadata": {},
   "source": [
    "**Step 9: Write functions to display cards**<br>\n",
    "When the game starts, and after each time Player takes a card, the dealer's first card is hidden and all of Player's cards are visible. At the end of the hand all cards are shown, and you may want to show each hand's total value. Write a function for each of these scenarios."
   ]
  },
  {
   "cell_type": "code",
   "execution_count": 10,
   "metadata": {},
   "outputs": [],
   "source": [
    "def show_some(player,dealer) :\n",
    "    \n",
    "    print(\"\\nDealer's Hand :\")\n",
    "    \n",
    "    print(\" <card hidden>\")\n",
    "    \n",
    "    print('',dealer.cards[1])\n",
    "    \n",
    "    print(\"\\nPlayer's Hand :\", *player.cards, sep='\\n ')\n",
    "    \n",
    "def show_all(player,dealer) :\n",
    "    \n",
    "    print(\"\\nDealer's Hand :\", *dealer.cards, sep='\\n ')\n",
    "    \n",
    "    print(\"Dealer's Hand =\",dealer.value)\n",
    "    \n",
    "    print(\"\\nPlayer's Hand :\", *player.cards, sep='\\n ')\n",
    "    \n",
    "    print(\"Player's Hand =\",player.value)"
   ]
  },
  {
   "cell_type": "markdown",
   "metadata": {},
   "source": [
    "**Step 10: Write functions to handle end of game scenarios**<br>\n",
    "Remember to pass player's hand, dealer's hand and chips as needed."
   ]
  },
  {
   "cell_type": "code",
   "execution_count": 11,
   "metadata": {},
   "outputs": [],
   "source": [
    "def player_busts(player,dealer,chips) :\n",
    "    \n",
    "    print(\" Player busts! \")\n",
    "    \n",
    "    chips.lose_bet()\n",
    "\n",
    "def player_wins(player,dealer,chips) :\n",
    "    \n",
    "    print(\" Player wins! \")\n",
    "    \n",
    "    chips.win_bet()\n",
    "\n",
    "def dealer_busts(player,dealer,chips) :\n",
    "    \n",
    "    print(\" Dealer busts! \")\n",
    "    \n",
    "    chips.win_bet()\n",
    "    \n",
    "def dealer_wins(player,dealer,chips) :\n",
    "    \n",
    "    print(\" Dealer wins! \")\n",
    "    \n",
    "    chips.lose_bet()\n",
    "    \n",
    "def push(player,dealer) :\n",
    "    \n",
    "    print(\" Dealer and Player tie! It's a push.\")"
   ]
  },
  {
   "cell_type": "markdown",
   "metadata": {},
   "source": [
    "### And now on to the game!!"
   ]
  },
  {
   "cell_type": "code",
   "execution_count": 12,
   "metadata": {},
   "outputs": [
    {
     "name": "stdout",
     "output_type": "stream",
     "text": [
      "Welcome to BlackJack! Get as close to 21 as you can without going over!\n",
      "Dealer hits until she reaches 17. Aces count as 1 or 11.\n",
      " Enter Bet : 10\n",
      "\n",
      "Dealer's Hand :\n",
      " <card hidden>\n",
      " Ace of Clubs \n",
      "\n",
      "Player's Hand :\n",
      " Two of Clubs \n",
      " Five of Diamonds \n",
      " Would you like to Hit or Stand (Enter 'H' or 'S') : H\n",
      "\n",
      "Dealer's Hand :\n",
      " <card hidden>\n",
      " Ace of Clubs \n",
      "\n",
      "Player's Hand :\n",
      " Two of Clubs \n",
      " Five of Diamonds \n",
      " Two of Diamonds \n",
      " Would you like to Hit or Stand (Enter 'H' or 'S') : H\n",
      "\n",
      "Dealer's Hand :\n",
      " <card hidden>\n",
      " Ace of Clubs \n",
      "\n",
      "Player's Hand :\n",
      " Two of Clubs \n",
      " Five of Diamonds \n",
      " Two of Diamonds \n",
      " Five of Spades \n",
      " Would you like to Hit or Stand (Enter 'H' or 'S') : H\n",
      "\n",
      "Dealer's Hand :\n",
      " <card hidden>\n",
      " Ace of Clubs \n",
      "\n",
      "Player's Hand :\n",
      " Two of Clubs \n",
      " Five of Diamonds \n",
      " Two of Diamonds \n",
      " Five of Spades \n",
      " Jack of Spades \n",
      " Player busts! \n",
      "\n",
      "Player's winnings stand at 90\n",
      "Would you like to play another hand? Enter 'y' or 'n' N\n",
      "Thanks for playing!\n"
     ]
    }
   ],
   "source": [
    "while True :\n",
    "    \n",
    "    print('Welcome to BlackJack! Get as close to 21 as you can without going over!\\nDealer hits until she reaches 17. Aces count as 1 or 11.')\n",
    "    \n",
    "    deck = Deck()\n",
    "    \n",
    "    deck.shuffle()\n",
    "    \n",
    "    \n",
    "    player_hand = Hand()\n",
    "    \n",
    "    player_hand.add_card(deck.deal())\n",
    "    \n",
    "    player_hand.add_card(deck.deal())\n",
    "    \n",
    "    \n",
    "    dealer_hand = Hand()\n",
    "    \n",
    "    dealer_hand.add_card(deck.deal())\n",
    "    \n",
    "    dealer_hand.add_card(deck.deal())\n",
    "            \n",
    "    player_chips = Chips()  \n",
    "    \n",
    "    take_bet(player_chips)\n",
    "    \n",
    "    show_some(player_hand,dealer_hand)\n",
    "    \n",
    "    while playing:  \n",
    "        \n",
    "        hit_or_stand(deck,player_hand) \n",
    "        \n",
    "        show_some(player_hand,dealer_hand)  \n",
    "        \n",
    "        if player_hand.value > 21 :\n",
    "            \n",
    "            player_busts(player_hand,dealer_hand,player_chips)\n",
    "            \n",
    "            break        \n",
    "\n",
    "\n",
    "    if player_hand.value <= 21 :\n",
    "        \n",
    "        while dealer_hand.value < 17 :\n",
    "            \n",
    "            hit(deck,dealer_hand)    \n",
    "    \n",
    "        show_all(player_hand,dealer_hand)\n",
    "        \n",
    "        if dealer_hand.value > 21 :\n",
    "            \n",
    "            dealer_busts(player_hand,dealer_hand,player_chips)\n",
    "\n",
    "        elif dealer_hand.value > player_hand.value :\n",
    "            \n",
    "            dealer_wins(player_hand,dealer_hand,player_chips)\n",
    "\n",
    "        elif dealer_hand.value < player_hand.value :\n",
    "            \n",
    "            player_wins(player_hand,dealer_hand,player_chips)\n",
    "\n",
    "        else :\n",
    "            \n",
    "            push(player_hand,dealer_hand)        \n",
    "    \n",
    "    print(\"\\nPlayer's winnings stand at\",player_chips.total)\n",
    "    \n",
    "    new_game = input(\"Would you like to play another hand? Enter 'y' or 'n' \")\n",
    "    \n",
    "    if new_game[0].lower()=='y':\n",
    "        \n",
    "        playing = True\n",
    "        \n",
    "        continue\n",
    "        \n",
    "    else:\n",
    "        \n",
    "        print(\"Thanks for playing!\")\n",
    "        \n",
    "        break"
   ]
  },
  {
   "cell_type": "markdown",
   "metadata": {},
   "source": [
    "And that's it! Remember, these steps may differ significantly from your own solution. That's OK! Keep working on different sections of your program until you get the desired results. It takes a lot of time and patience! As always, feel free to post questions and comments to the QA Forums.\n",
    "# Good job!"
   ]
  }
 ],
 "metadata": {
  "kernelspec": {
   "display_name": "Python 3",
   "language": "python",
   "name": "python3"
  },
  "language_info": {
   "codemirror_mode": {
    "name": "ipython",
    "version": 3
   },
   "file_extension": ".py",
   "mimetype": "text/x-python",
   "name": "python",
   "nbconvert_exporter": "python",
   "pygments_lexer": "ipython3",
   "version": "3.7.6"
  }
 },
 "nbformat": 4,
 "nbformat_minor": 1
}
