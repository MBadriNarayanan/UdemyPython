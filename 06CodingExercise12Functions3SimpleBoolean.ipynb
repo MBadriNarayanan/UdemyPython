{
 "cells": [
  {
   "cell_type": "markdown",
   "metadata": {},
   "source": [
    "## Define a function myfunc() that takes in a boolean value(True (or) False). If True, return 'Hello' and if False, return 'Goodbye'"
   ]
  },
  {
   "cell_type": "code",
   "execution_count": 1,
   "metadata": {},
   "outputs": [],
   "source": [
    "def myfunc(value) :\n",
    "    \n",
    "    '''\n",
    "    Takes a boolean value and returns 'Hello' if True (or) Goodbye if 'False'\n",
    "    \n",
    "    I/P : Boolean Value\n",
    "    \n",
    "    O/P : 'Hello' (or) 'Goodbye\n",
    "    \n",
    "    '''\n",
    "    \n",
    "    if value == True :\n",
    "        \n",
    "        return 'Hello'\n",
    "        \n",
    "    else :\n",
    "        \n",
    "        return 'Goodbye'"
   ]
  },
  {
   "cell_type": "code",
   "execution_count": 2,
   "metadata": {},
   "outputs": [
    {
     "name": "stdout",
     "output_type": "stream",
     "text": [
      "Hello\n",
      "Goodbye\n"
     ]
    }
   ],
   "source": [
    "print(myfunc(True))\n",
    "\n",
    "print(myfunc(False))"
   ]
  },
  {
   "cell_type": "code",
   "execution_count": 3,
   "metadata": {},
   "outputs": [
    {
     "name": "stdout",
     "output_type": "stream",
     "text": [
      "Help on function myfunc in module __main__:\n",
      "\n",
      "myfunc(value)\n",
      "    Takes a boolean value and returns 'Hello' if True (or) Goodbye if 'False'\n",
      "    \n",
      "    I/P : Boolean Value\n",
      "    \n",
      "    O/P : 'Hello' (or) 'Goodbye\n",
      "\n"
     ]
    }
   ],
   "source": [
    "help(myfunc)"
   ]
  }
 ],
 "metadata": {
  "kernelspec": {
   "display_name": "Python 3",
   "language": "python",
   "name": "python3"
  },
  "language_info": {
   "codemirror_mode": {
    "name": "ipython",
    "version": 3
   },
   "file_extension": ".py",
   "mimetype": "text/x-python",
   "name": "python",
   "nbconvert_exporter": "python",
   "pygments_lexer": "ipython3",
   "version": "3.7.6"
  }
 },
 "nbformat": 4,
 "nbformat_minor": 2
}
