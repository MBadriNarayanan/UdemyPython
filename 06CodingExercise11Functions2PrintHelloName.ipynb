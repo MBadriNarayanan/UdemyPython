{
 "cells": [
  {
   "cell_type": "markdown",
   "metadata": {},
   "source": [
    "## Define a function myfunc() that takes in a name, and prints 'Hello Name'"
   ]
  },
  {
   "cell_type": "code",
   "execution_count": 1,
   "metadata": {},
   "outputs": [],
   "source": [
    "def myfunc(name) :\n",
    "    \n",
    "    '''\n",
    "    Takes name as parameter and prints 'Hello name'\n",
    "    \n",
    "    I/P : Name to be printed\n",
    "    \n",
    "    O/P : Prints Hello name\n",
    "    \n",
    "    '''\n",
    "    \n",
    "    print('Hello {}'.format(name))"
   ]
  },
  {
   "cell_type": "code",
   "execution_count": 2,
   "metadata": {},
   "outputs": [
    {
     "name": "stdout",
     "output_type": "stream",
     "text": [
      "Enter A Name : M Badri Narayanan\n",
      "Hello M Badri Narayanan\n"
     ]
    }
   ],
   "source": [
    "name = input('Enter A Name : ')\n",
    "\n",
    "myfunc(name)"
   ]
  },
  {
   "cell_type": "code",
   "execution_count": 3,
   "metadata": {},
   "outputs": [
    {
     "name": "stdout",
     "output_type": "stream",
     "text": [
      "Help on function myfunc in module __main__:\n",
      "\n",
      "myfunc(name)\n",
      "    Takes name as parameter and prints 'Hello name'\n",
      "    \n",
      "    I/P : Name to be printed\n",
      "    \n",
      "    O/P : Prints Hello name\n",
      "\n"
     ]
    }
   ],
   "source": [
    "help(myfunc)"
   ]
  },
  {
   "cell_type": "code",
   "execution_count": null,
   "metadata": {},
   "outputs": [],
   "source": []
  }
 ],
 "metadata": {
  "kernelspec": {
   "display_name": "Python 3",
   "language": "python",
   "name": "python3"
  },
  "language_info": {
   "codemirror_mode": {
    "name": "ipython",
    "version": 3
   },
   "file_extension": ".py",
   "mimetype": "text/x-python",
   "name": "python",
   "nbconvert_exporter": "python",
   "pygments_lexer": "ipython3",
   "version": "3.7.6"
  }
 },
 "nbformat": 4,
 "nbformat_minor": 2
}
