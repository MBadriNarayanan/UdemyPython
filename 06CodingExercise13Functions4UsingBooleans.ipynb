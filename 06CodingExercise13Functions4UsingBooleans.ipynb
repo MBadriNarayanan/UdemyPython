{
 "cells": [
  {
   "cell_type": "markdown",
   "metadata": {},
   "source": [
    "## Define a function myfunc() which takes in three arguments x, y and z.\n",
    "\n",
    "## If z is True return x\n",
    "\n",
    "## if z is False return y"
   ]
  },
  {
   "cell_type": "code",
   "execution_count": 1,
   "metadata": {},
   "outputs": [],
   "source": [
    "def myfunc(x,y,z) :\n",
    "    \n",
    "    '''\n",
    "    Takes 3 arguments x, y and z\n",
    "    \n",
    "    Returns x if z is True\n",
    "    \n",
    "    Returns y if z is False\n",
    "    \n",
    "    I/P : 3 Values x, y  and z\n",
    "    \n",
    "    O/P : x (or) y\n",
    "    \n",
    "    '''\n",
    "    \n",
    "    if z == True : \n",
    "        \n",
    "        return x\n",
    "        \n",
    "    elif z == False:\n",
    "        \n",
    "        return y"
   ]
  },
  {
   "cell_type": "code",
   "execution_count": 2,
   "metadata": {},
   "outputs": [
    {
     "name": "stdout",
     "output_type": "stream",
     "text": [
      "3\n",
      "2\n",
      "10\n",
      "15\n"
     ]
    }
   ],
   "source": [
    "print(myfunc(3,2,1))\n",
    "\n",
    "print(myfunc(3,2,0))\n",
    "\n",
    "print(myfunc(10,15,True))\n",
    "\n",
    "print(myfunc(10,15,False))"
   ]
  },
  {
   "cell_type": "code",
   "execution_count": 3,
   "metadata": {},
   "outputs": [
    {
     "name": "stdout",
     "output_type": "stream",
     "text": [
      "Help on function myfunc in module __main__:\n",
      "\n",
      "myfunc(x, y, z)\n",
      "    Takes 3 arguments x, y and z\n",
      "    \n",
      "    Returns x if z is True\n",
      "    \n",
      "    Returns y if z is False\n",
      "    \n",
      "    I/P : 3 Values x, y  and z\n",
      "    \n",
      "    O/P : x (or) y\n",
      "\n"
     ]
    }
   ],
   "source": [
    "help(myfunc)"
   ]
  },
  {
   "cell_type": "code",
   "execution_count": null,
   "metadata": {},
   "outputs": [],
   "source": []
  }
 ],
 "metadata": {
  "kernelspec": {
   "display_name": "Python 3",
   "language": "python",
   "name": "python3"
  },
  "language_info": {
   "codemirror_mode": {
    "name": "ipython",
    "version": 3
   },
   "file_extension": ".py",
   "mimetype": "text/x-python",
   "name": "python",
   "nbconvert_exporter": "python",
   "pygments_lexer": "ipython3",
   "version": "3.7.6"
  }
 },
 "nbformat": 4,
 "nbformat_minor": 2
}
