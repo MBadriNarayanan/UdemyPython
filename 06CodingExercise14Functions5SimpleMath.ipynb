{
 "cells": [
  {
   "cell_type": "markdown",
   "metadata": {},
   "source": [
    "## Define a function myfunc() that takes in two arguments and returns their sum."
   ]
  },
  {
   "cell_type": "code",
   "execution_count": 1,
   "metadata": {},
   "outputs": [],
   "source": [
    "def myfunc(a,b) :\n",
    "    '''\n",
    "    \n",
    "    Takes two arguments a and b and returns their sum\n",
    "    \n",
    "    I/P : Two arguments a and b\n",
    "    \n",
    "    O/P : Sum of a and b\n",
    "    \n",
    "    '''\n",
    "    return a + b"
   ]
  },
  {
   "cell_type": "code",
   "execution_count": 2,
   "metadata": {},
   "outputs": [
    {
     "name": "stdout",
     "output_type": "stream",
     "text": [
      "5\n",
      "8.5\n",
      "53\n"
     ]
    }
   ],
   "source": [
    "print(myfunc(2,3))\n",
    "\n",
    "print(myfunc(3,5.5))\n",
    "\n",
    "print(myfunc(8,45))"
   ]
  },
  {
   "cell_type": "code",
   "execution_count": 3,
   "metadata": {},
   "outputs": [
    {
     "name": "stdout",
     "output_type": "stream",
     "text": [
      "Help on function myfunc in module __main__:\n",
      "\n",
      "myfunc(a, b)\n",
      "    Takes two arguments a and b and returns their sum\n",
      "    \n",
      "    I/P : Two arguments a and b\n",
      "    \n",
      "    O/P : Sum of a and b\n",
      "\n"
     ]
    }
   ],
   "source": [
    "help(myfunc)"
   ]
  },
  {
   "cell_type": "code",
   "execution_count": null,
   "metadata": {},
   "outputs": [],
   "source": []
  }
 ],
 "metadata": {
  "kernelspec": {
   "display_name": "Python 3",
   "language": "python",
   "name": "python3"
  },
  "language_info": {
   "codemirror_mode": {
    "name": "ipython",
    "version": 3
   },
   "file_extension": ".py",
   "mimetype": "text/x-python",
   "name": "python",
   "nbconvert_exporter": "python",
   "pygments_lexer": "ipython3",
   "version": "3.7.6"
  }
 },
 "nbformat": 4,
 "nbformat_minor": 2
}
