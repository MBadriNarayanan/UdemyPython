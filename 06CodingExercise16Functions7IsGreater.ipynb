{
 "cells": [
  {
   "cell_type": "markdown",
   "metadata": {},
   "source": [
    "## Define a function called is_greater() that takes in two arguments, and returns True if first value is greater than the second, False if it is less than or equal to the second"
   ]
  },
  {
   "cell_type": "code",
   "execution_count": 1,
   "metadata": {},
   "outputs": [],
   "source": [
    "def is_greater(a,b) :\n",
    "    \n",
    "    '''\n",
    "    Takes in two arguments\n",
    "    \n",
    "    Returns True if first > second\n",
    "    \n",
    "    Returns False if first <= second \n",
    "    \n",
    "    I/P : Two values a and b\n",
    "    \n",
    "    O/P : True (or) False\n",
    "    \n",
    "    '''\n",
    "    \n",
    "    if a > b : \n",
    "        \n",
    "        return True\n",
    "    \n",
    "    else :\n",
    "        \n",
    "        return False\n",
    "    "
   ]
  },
  {
   "cell_type": "code",
   "execution_count": 2,
   "metadata": {},
   "outputs": [
    {
     "name": "stdout",
     "output_type": "stream",
     "text": [
      "True\n",
      "False\n",
      "True\n"
     ]
    }
   ],
   "source": [
    "print(is_greater(6,4))\n",
    "\n",
    "print(is_greater(5.5,8.8))\n",
    "\n",
    "print(is_greater('Badri','Aadhi'))"
   ]
  },
  {
   "cell_type": "code",
   "execution_count": 3,
   "metadata": {},
   "outputs": [
    {
     "name": "stdout",
     "output_type": "stream",
     "text": [
      "Help on function is_greater in module __main__:\n",
      "\n",
      "is_greater(a, b)\n",
      "    Takes in two arguments\n",
      "    \n",
      "    Returns True if first > second\n",
      "    \n",
      "    Returns False if first <= second \n",
      "    \n",
      "    I/P : Two values a and b\n",
      "    \n",
      "    O/P : True (or) False\n",
      "\n"
     ]
    }
   ],
   "source": [
    "help(is_greater)"
   ]
  },
  {
   "cell_type": "code",
   "execution_count": null,
   "metadata": {},
   "outputs": [],
   "source": []
  }
 ],
 "metadata": {
  "kernelspec": {
   "display_name": "Python 3",
   "language": "python",
   "name": "python3"
  },
  "language_info": {
   "codemirror_mode": {
    "name": "ipython",
    "version": 3
   },
   "file_extension": ".py",
   "mimetype": "text/x-python",
   "name": "python",
   "nbconvert_exporter": "python",
   "pygments_lexer": "ipython3",
   "version": "3.7.6"
  }
 },
 "nbformat": 4,
 "nbformat_minor": 2
}
