{
 "cells": [
  {
   "cell_type": "markdown",
   "metadata": {},
   "source": [
    "## Define a function myfunc() that takes in arbitary number of arguments, and returns the sum of those arguments."
   ]
  },
  {
   "cell_type": "code",
   "execution_count": 1,
   "metadata": {},
   "outputs": [],
   "source": [
    "def myfunc(*args) :\n",
    "    \n",
    "    '''\n",
    "    Takes in arbitary number of arguments\n",
    "    \n",
    "    Returns their sum\n",
    "    \n",
    "    I/P : Arbitary number of arguments\n",
    "    \n",
    "    O/P : Sum of the arguments\n",
    "    '''\n",
    "    return sum(args)"
   ]
  },
  {
   "cell_type": "code",
   "execution_count": 2,
   "metadata": {},
   "outputs": [
    {
     "name": "stdout",
     "output_type": "stream",
     "text": [
      "60\n",
      "400\n"
     ]
    }
   ],
   "source": [
    "print(myfunc(10,20,30))\n",
    "\n",
    "print(myfunc(40,50,60,70,85,95))"
   ]
  },
  {
   "cell_type": "code",
   "execution_count": 3,
   "metadata": {},
   "outputs": [
    {
     "name": "stdout",
     "output_type": "stream",
     "text": [
      "Help on function myfunc in module __main__:\n",
      "\n",
      "myfunc(*args)\n",
      "    Takes in arbitary number of arguments\n",
      "    \n",
      "    Returns their sum\n",
      "    \n",
      "    I/P : Arbitary number of arguments\n",
      "    \n",
      "    O/P : Sum of the arguments\n",
      "\n"
     ]
    }
   ],
   "source": [
    "help(myfunc)"
   ]
  },
  {
   "cell_type": "code",
   "execution_count": null,
   "metadata": {},
   "outputs": [],
   "source": []
  }
 ],
 "metadata": {
  "kernelspec": {
   "display_name": "Python 3",
   "language": "python",
   "name": "python3"
  },
  "language_info": {
   "codemirror_mode": {
    "name": "ipython",
    "version": 3
   },
   "file_extension": ".py",
   "mimetype": "text/x-python",
   "name": "python",
   "nbconvert_exporter": "python",
   "pygments_lexer": "ipython3",
   "version": "3.7.6"
  }
 },
 "nbformat": 4,
 "nbformat_minor": 2
}
