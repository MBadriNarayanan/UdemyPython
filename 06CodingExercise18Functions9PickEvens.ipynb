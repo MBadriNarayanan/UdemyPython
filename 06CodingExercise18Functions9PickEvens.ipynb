{
 "cells": [
  {
   "cell_type": "markdown",
   "metadata": {},
   "source": [
    "## Define a function myfunc() that takes in arbitary number of arguments, and returns the list containing only those arguments that are even."
   ]
  },
  {
   "cell_type": "code",
   "execution_count": 1,
   "metadata": {},
   "outputs": [],
   "source": [
    "def myfunc(*args) :\n",
    "    \n",
    "    '''\n",
    "    Takes in arbitary number of arguments,and returns a list containing only those arguments that are even\n",
    "    \n",
    "    I/P : Arbitary number of arguments\n",
    "    \n",
    "    O/P : List containing arguments that are even\n",
    "    '''\n",
    "    \n",
    "    list1 = []\n",
    "    \n",
    "    for i in args :\n",
    "        \n",
    "        if i % 2 == 0 :\n",
    "        \n",
    "            list1.append(i)\n",
    "        \n",
    "    return list1"
   ]
  },
  {
   "cell_type": "code",
   "execution_count": 2,
   "metadata": {},
   "outputs": [
    {
     "name": "stdout",
     "output_type": "stream",
     "text": [
      "[2, 4, 6, 8, 10]\n"
     ]
    }
   ],
   "source": [
    "print(myfunc(1,2,3,4,5,6,7,8,9,10))"
   ]
  },
  {
   "cell_type": "code",
   "execution_count": 3,
   "metadata": {},
   "outputs": [
    {
     "name": "stdout",
     "output_type": "stream",
     "text": [
      "Help on function myfunc in module __main__:\n",
      "\n",
      "myfunc(*args)\n",
      "    Takes in arbitary number of arguments,and returns a list containing only those arguments that are even\n",
      "    \n",
      "    I/P : Arbitary number of arguments\n",
      "    \n",
      "    O/P : List containing arguments that are even\n",
      "\n"
     ]
    }
   ],
   "source": [
    "help(myfunc)"
   ]
  },
  {
   "cell_type": "code",
   "execution_count": null,
   "metadata": {},
   "outputs": [],
   "source": []
  }
 ],
 "metadata": {
  "kernelspec": {
   "display_name": "Python 3",
   "language": "python",
   "name": "python3"
  },
  "language_info": {
   "codemirror_mode": {
    "name": "ipython",
    "version": 3
   },
   "file_extension": ".py",
   "mimetype": "text/x-python",
   "name": "python",
   "nbconvert_exporter": "python",
   "pygments_lexer": "ipython3",
   "version": "3.7.6"
  }
 },
 "nbformat": 4,
 "nbformat_minor": 2
}
